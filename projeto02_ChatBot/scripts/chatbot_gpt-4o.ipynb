{
 "cells": [
  {
   "cell_type": "markdown",
   "id": "39f1a1b8",
   "metadata": {},
   "source": [
    "## 1. Autenticação usando Chave de API\n",
    "Para os Pontos de Extremidade da API OpenAI, implante o Modelo para gerar a URL do ponto de extremidade e uma chave de API para autenticar no serviço. Neste exemplo, o ponto de extremidade e a chave são strings que contêm a URL do ponto de extremidade e a chave de API.\n",
    "\n",
    "A URL do ponto de extremidade de API e a chave de API podem ser encontradas na página Implantações + Ponto de Extremidade depois que o modelo é implantado.\n",
    "\n",
    "Para criar um cliente com o SDK da OpenAI usando uma chave de API, inicialize o cliente passando sua chave de API para a configuração do SDK. Isso permite que você se autentique e interaja com os serviços OpenAI de forma simples:"
   ]
  },
  {
   "cell_type": "code",
   "execution_count": null,
   "id": "3efe3fb3",
   "metadata": {},
   "outputs": [],
   "source": [
    "import os\n",
    "from openai import AzureOpenAI\n",
    "\n",
    "# Este script demonstra como usar o SDK do Azure OpenAI para criar um cliente para a API OpenAI.\n",
    "# Ele configura as variáveis de ambiente necessárias e inicializa o cliente com as credenciais apropriadas.\n",
    "client = AzureOpenAI(\n",
    "    api_version=\"2024-12-01-preview\",\n",
    "    endpoint=\"https://dioprojeto02ch7457959306.openai.azure.com/\",\n",
    "    credential=AzureKeyCredential(\"<API_KEY>\")\n",
    ")"
   ]
  },
  {
   "cell_type": "markdown",
   "id": "23fdb40b",
   "metadata": {},
   "source": [
    "## 2. Instalar dependências\n",
    "Instale o SDK do Azure Open AI usando pip (Requer: Python >=3.8):"
   ]
  },
  {
   "cell_type": "code",
   "execution_count": null,
   "id": "119a2ccc",
   "metadata": {},
   "outputs": [],
   "source": [
    "pip install openai"
   ]
  },
  {
   "cell_type": "markdown",
   "id": "b1d1d5e0",
   "metadata": {},
   "source": [
    "## 3. Executar um código de exemplo básico\n",
    "Esse exemplo demonstra uma chamada básica à API de conclusão de chat. A chamada é síncrona."
   ]
  },
  {
   "cell_type": "code",
   "execution_count": null,
   "id": "a346988b",
   "metadata": {},
   "outputs": [],
   "source": [
    "import os\n",
    "from openai import AzureOpenAI\n",
    "\n",
    "endpoint = \"https://dioprojeto02ch7457959306.openai.azure.com/\"\n",
    "model_name = \"gpt-4o\"\n",
    "deployment = \"gpt-4o\"\n",
    "\n",
    "subscription_key = \"<your-api-key>\"\n",
    "api_version = \"2024-12-01-preview\"\n",
    "\n",
    "client = AzureOpenAI(\n",
    "    api_version=api_version,\n",
    "    azure_endpoint=endpoint,\n",
    "    api_key=subscription_key,\n",
    ")\n",
    "\n",
    "# Criar uma conclusão de chat com uma mensagem do sistema, mensagem do usuário e mensagem do assistente\n",
    "response = client.chat.completions.create(\n",
    "    messages=[\n",
    "        {\n",
    "            \"role\": \"system\",\n",
    "            \"content\": \"Você é um assistente prestativo.\",\n",
    "        },\n",
    "        {\n",
    "            \"role\": \"user\",\n",
    "            \"content\": \"Vou para Paris, o que devo ver?\",\n",
    "        }\n",
    "    ],\n",
    "    max_tokens=4096,    # Número máximo de tokens na resposta\n",
    "    temperature=1.0,    # Controla a aleatoriedade na saída\n",
    "    top_p=1.0,          # Controla a diversidade via amostragem de núcleo\n",
    "    model=deployment    # Nome do modelo ou nome da implantação\n",
    ")\n",
    "\n",
    "# Imprimir a resposta do assistente\n",
    "print(response.choices[0].message.content)"
   ]
  },
  {
   "cell_type": "markdown",
   "id": "071b781b",
   "metadata": {},
   "source": [
    "## 4. Explorar mais exemplos\n",
    "#### Executar uma conversa com várias rodadas\n",
    "Esse exemplo demonstra uma conversa com várias rodadas com a API de conclusão de chat. Ao usar o modelo para um aplicativo de chat, você precisará gerenciar o histórico dessa conversa e enviar as mensagens mais recentes para o modelo."
   ]
  },
  {
   "cell_type": "code",
   "execution_count": null,
   "id": "0a45885a",
   "metadata": {},
   "outputs": [],
   "source": [
    "import os\n",
    "from openai import AzureOpenAI\n",
    "\n",
    "endpoint = \"https://dioprojeto02ch7457959306.openai.azure.com/\"\n",
    "model_name = \"gpt-4o\"\n",
    "deployment = \"gpt-4o\"\n",
    "\n",
    "subscription_key = \"<your-api-key>\"\n",
    "api_version = \"2024-12-01-preview\"\n",
    "\n",
    "client = AzureOpenAI(\n",
    "    api_version=api_version,\n",
    "    azure_endpoint=endpoint,\n",
    "    api_key=subscription_key,\n",
    ")\n",
    "\n",
    "# Criar uma conclusão de chat com mensagem do sistema, mensagem do usuário e mensagem do assistente\n",
    "response = client.chat.completions.create(\n",
    "    messages=[\n",
    "        {\n",
    "            \"role\": \"system\",\n",
    "            \"content\": \"Você é um assistente prestativo.\",\n",
    "        },\n",
    "        {\n",
    "            \"role\": \"user\",\n",
    "            \"content\": \"Vou para Paris, o que devo ver?\",\n",
    "        },\n",
    "        {\n",
    "            \"role\": \"assistant\",\n",
    "            \"content\": \"Paris, a capital da França, é conhecida por sua arquitetura impressionante, museus de arte, pontos históricos e atmosfera romântica. Aqui estão algumas das principais atrações para ver em Paris:\\n \\n 1. A Torre Eiffel: A icônica Torre Eiffel é um dos monumentos mais reconhecíveis do mundo e oferece vistas deslumbrantes da cidade.\\n 2. O Museu do Louvre: O Louvre é um dos maiores e mais famosos museus do mundo, abrigando uma impressionante coleção de arte e artefatos, incluindo a Mona Lisa.\\n 3. Catedral de Notre-Dame: Esta bela catedral é um dos pontos turísticos mais famosos de Paris e é conhecida por sua arquitetura gótica e impressionantes vitrais.\\n \\n Estas são apenas algumas das muitas atrações que Paris tem a oferecer. Com tanto para ver e fazer, não é à toa que Paris é um dos destinos turísticos mais populares do mundo.\",\n",
    "        },\n",
    "        {\n",
    "            \"role\": \"user\",\n",
    "            \"content\": \"O que tem de tão especial no item #1?\",\n",
    "        }\n",
    "    ],\n",
    "    max_tokens=4096,    # Número máximo de tokens na resposta\n",
    "    temperature=1.0,    # Controla a aleatoriedade na saída\n",
    "    top_p=1.0,          # Controla a diversidade via amostragem de núcleo\n",
    "    model=deployment    # Nome do modelo ou nome da implantação\n",
    ")\n",
    "\n",
    "# A resposta conterá a réplica do assistente à pergunta do usuário\n",
    "print(response.choices[0].message.content)"
   ]
  },
  {
   "cell_type": "markdown",
   "id": "3398c17a",
   "metadata": {},
   "source": [
    "## 5.Transmitir a saída\n",
    "Para uma melhor experiência do usuário, você deve transmitir a resposta do modelo para que o primeiro token apareça logo e você evite esperar por respostas longas."
   ]
  },
  {
   "cell_type": "code",
   "execution_count": null,
   "id": "895e48cd",
   "metadata": {},
   "outputs": [],
   "source": [
    "import os\n",
    "from openai import AzureOpenAI\n",
    "\n",
    "endpoint = \"https://dioprojeto02ch7457959306.openai.azure.com/\"\n",
    "model_name = \"gpt-4o\"\n",
    "deployment = \"gpt-4o\"\n",
    "\n",
    "subscription_key = \"<your-api-key>\"\n",
    "api_version = \"2024-12-01-preview\"\n",
    "\n",
    "client = AzureOpenAI(\n",
    "    api_version=api_version,\n",
    "    azure_endpoint=endpoint,\n",
    "    api_key=subscription_key,\n",
    ")\n",
    "\n",
    "# Transmitir a resposta da conclusão do chat\n",
    "response = client.chat.completions.create(\n",
    "    stream=True,\n",
    "    messages=[\n",
    "        {\n",
    "            \"role\": \"system\",\n",
    "            \"content\": \"Você é um assistente prestativo.\",\n",
    "        },\n",
    "        {\n",
    "            \"role\": \"user\",\n",
    "            \"content\": \"Vou para Paris, o que devo ver?\",\n",
    "        }\n",
    "    ],\n",
    "    max_tokens=4096,    # Número máximo de tokens na resposta\n",
    "    temperature=1.0,    # Controla a aleatoriedade na saída\n",
    "    top_p=1.0,          # Controla a diversidade via amostragem de núcleo\n",
    "    model=deployment,   # Nome do modelo ou nome da implantação\n",
    ")\n",
    "\n",
    "# Imprimir a resposta conforme ela é transmitida\n",
    "for update in response:\n",
    "    if update.choices:\n",
    "        print(update.choices[0].delta.content or \"\", end=\"\")\n",
    "\n",
    "client.close()"
   ]
  }
 ],
 "metadata": {
  "kernelspec": {
   "display_name": "base",
   "language": "python",
   "name": "python3"
  },
  "language_info": {
   "codemirror_mode": {
    "name": "ipython",
    "version": 3
   },
   "file_extension": ".py",
   "mimetype": "text/x-python",
   "name": "python",
   "nbconvert_exporter": "python",
   "pygments_lexer": "ipython3",
   "version": "3.12.7"
  }
 },
 "nbformat": 4,
 "nbformat_minor": 5
}
