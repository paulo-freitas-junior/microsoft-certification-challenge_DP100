{
 "cells": [
  {
   "cell_type": "markdown",
   "id": "1f8932b1",
   "metadata": {},
   "source": [
    "1. Autenticação usando Chave de API\n",
    "Para os Pontos de Extremidade da API OpenAI, implante o Modelo para gerar a URL do ponto de extremidade e uma chave de API para autenticar no serviço. Neste exemplo, o ponto de extremidade e a chave são strings que contêm a URL do ponto de extremidade e a chave de API.\n",
    "\n",
    "A URL do ponto de extremidade de API e a chave de API podem ser encontradas na página Implantações + Ponto de Extremidade depois que o modelo é implantado.\n",
    "\n",
    "Para criar um cliente com o SDK da OpenAI usando uma chave de API, inicialize o cliente passando sua chave de API para a configuração do SDK. Isso permite que você se autentique e interaja com os serviços OpenAI de forma simples:"
   ]
  },
  {
   "cell_type": "code",
   "execution_count": null,
   "id": "3d134647",
   "metadata": {},
   "outputs": [],
   "source": [
    "endpoint = \"https://dioprojeto02ch7457959306.openai.azure.com/\"\n",
    "model_name = \"text-embedding-3-large\"\n",
    "deployment = \"text-embedding-3-large\"\n",
    "\n",
    "api_version = \"2024-02-01\"\n",
    "\n",
    "client = AzureOpenAI(\n",
    "    api_version=\"2024-12-01-preview\",\n",
    "    endpoint=endpoint,\n",
    "    credential=AzureKeyCredential(\"<API_KEY>\")\n",
    ")"
   ]
  },
  {
   "cell_type": "markdown",
   "id": "dd0f780f",
   "metadata": {},
   "source": [
    "2. Instalar dependências\n",
    "Instale o SDK de Inferência de IA do Azure usando pip (Requer: Python >=3.8):"
   ]
  },
  {
   "cell_type": "code",
   "execution_count": null,
   "id": "c8402052",
   "metadata": {},
   "outputs": [],
   "source": [
    "pip install openai"
   ]
  },
  {
   "cell_type": "markdown",
   "id": "e3d6b165",
   "metadata": {},
   "source": [
    "3. Executar um código de exemplo básico\n",
    "Este exemplo demonstra uma chamada à API de incorporação.\n",
    "\n",
    "Ele está aproveitando o ponto de extremidade de inferência de modelo de IA do Azure e seu token do AAD. A chamada é síncrona."
   ]
  },
  {
   "cell_type": "code",
   "execution_count": null,
   "id": "1d3bdfe3",
   "metadata": {},
   "outputs": [],
   "source": [
    "import os\n",
    "from openai import AzureOpenAI\n",
    "\n",
    "endpoint = \"https://dioprojeto02ch7457959306.openai.azure.com/\"\n",
    "model_name = \"text-embedding-3-large\"\n",
    "deployment = \"text-embedding-3-large\"\n",
    "\n",
    "api_version = \"2024-02-01\"\n",
    "\n",
    "client = AzureOpenAI(\n",
    "    api_version=\"2024-12-01-preview\",\n",
    "    endpoint=endpoint,\n",
    "    credential=AzureKeyCredential(\"<API_KEY>\")\n",
    ")\n",
    "\n",
    "response = client.embeddings.create(\n",
    "    input=[\"first phrase\",\"second phrase\",\"third phrase\"],\n",
    "    model=deployment\n",
    ")\n",
    "\n",
    "for item in response.data:\n",
    "    length = len(item.embedding)\n",
    "    print(\n",
    "        f\"data[{item.index}]: length={length}, \"\n",
    "        f\"[{item.embedding[0]}, {item.embedding[1]}, \"\n",
    "        f\"..., {item.embedding[length-2]}, {item.embedding[length-1]}]\"\n",
    "    )\n",
    "print(response.usage)"
   ]
  }
 ],
 "metadata": {
  "kernelspec": {
   "display_name": "base",
   "language": "python",
   "name": "python3"
  },
  "language_info": {
   "name": "python",
   "version": "3.12.7"
  }
 },
 "nbformat": 4,
 "nbformat_minor": 5
}
